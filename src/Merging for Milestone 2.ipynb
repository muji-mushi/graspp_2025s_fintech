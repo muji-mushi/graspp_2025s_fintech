{
 "cells": [
  {
   "cell_type": "markdown",
   "id": "0c17eba4",
   "metadata": {},
   "source": [
    "# Merging for Milestone 2"
   ]
  },
  {
   "cell_type": "code",
   "execution_count": 4,
   "id": "089c365c",
   "metadata": {},
   "outputs": [],
   "source": [
    "#Necessary Importations\n",
    "import pandas as pd\n",
    "import requests\n",
    "import io\n",
    "import os\n",
    "import seaborn as sns\n",
    "import matplotlib.pyplot as plt "
   ]
  },
  {
   "cell_type": "code",
   "execution_count": 5,
   "id": "ed962c87",
   "metadata": {},
   "outputs": [
    {
     "data": {
      "text/plain": [
       "'c:\\\\Users\\\\user\\\\OneDrive\\\\Documents\\\\graspp_2025s_fintech\\\\src'"
      ]
     },
     "execution_count": 5,
     "metadata": {},
     "output_type": "execute_result"
    }
   ],
   "source": [
    "os.getcwd()"
   ]
  },
  {
   "cell_type": "code",
   "execution_count": 6,
   "id": "ca2ca083",
   "metadata": {},
   "outputs": [
    {
     "name": "stderr",
     "output_type": "stream",
     "text": [
      "<>:1: SyntaxWarning: invalid escape sequence '\\d'\n",
      "<>:1: SyntaxWarning: invalid escape sequence '\\d'\n",
      "C:\\Users\\user\\AppData\\Local\\Temp\\ipykernel_16592\\2159315550.py:1: SyntaxWarning: invalid escape sequence '\\d'\n",
      "  df_mobile = pd.read_csv(\"..\\data\\processed\\IMF_mobilemoney.csv\")\n"
     ]
    }
   ],
   "source": [
    "df_mobile = pd.read_csv(\"..\\data\\processed\\IMF_mobilemoney.csv\")"
   ]
  },
  {
   "cell_type": "code",
   "execution_count": 7,
   "id": "83e8e2a3",
   "metadata": {},
   "outputs": [
    {
     "data": {
      "text/html": [
       "<div>\n",
       "<style scoped>\n",
       "    .dataframe tbody tr th:only-of-type {\n",
       "        vertical-align: middle;\n",
       "    }\n",
       "\n",
       "    .dataframe tbody tr th {\n",
       "        vertical-align: top;\n",
       "    }\n",
       "\n",
       "    .dataframe thead th {\n",
       "        text-align: right;\n",
       "    }\n",
       "</style>\n",
       "<table border=\"1\" class=\"dataframe\">\n",
       "  <thead>\n",
       "    <tr style=\"text-align: right;\">\n",
       "      <th></th>\n",
       "      <th>Unnamed: 0</th>\n",
       "      <th>COUNTRY</th>\n",
       "      <th>INDICATOR</th>\n",
       "      <th>2016</th>\n",
       "      <th>2017</th>\n",
       "      <th>2018</th>\n",
       "      <th>2019</th>\n",
       "      <th>2020</th>\n",
       "      <th>2021</th>\n",
       "      <th>2022</th>\n",
       "      <th>2023</th>\n",
       "    </tr>\n",
       "  </thead>\n",
       "  <tbody>\n",
       "    <tr>\n",
       "      <th>0</th>\n",
       "      <td>0</td>\n",
       "      <td>Zimbabwe</td>\n",
       "      <td>Value of mobile money transactions (during the...</td>\n",
       "      <td>28.303524</td>\n",
       "      <td>81.761626</td>\n",
       "      <td>63.410127</td>\n",
       "      <td>54.137070</td>\n",
       "      <td>25.053827</td>\n",
       "      <td>20.361375</td>\n",
       "      <td>14.181053</td>\n",
       "      <td>1.494562</td>\n",
       "    </tr>\n",
       "    <tr>\n",
       "      <th>1</th>\n",
       "      <td>1</td>\n",
       "      <td>Bulgaria</td>\n",
       "      <td>Value of mobile money transactions (during the...</td>\n",
       "      <td>NaN</td>\n",
       "      <td>NaN</td>\n",
       "      <td>NaN</td>\n",
       "      <td>NaN</td>\n",
       "      <td>NaN</td>\n",
       "      <td>NaN</td>\n",
       "      <td>NaN</td>\n",
       "      <td>NaN</td>\n",
       "    </tr>\n",
       "    <tr>\n",
       "      <th>2</th>\n",
       "      <td>2</td>\n",
       "      <td>Cameroon</td>\n",
       "      <td>Value of mobile money transactions (during the...</td>\n",
       "      <td>4.341683</td>\n",
       "      <td>16.448906</td>\n",
       "      <td>29.137805</td>\n",
       "      <td>39.887932</td>\n",
       "      <td>53.409600</td>\n",
       "      <td>NaN</td>\n",
       "      <td>NaN</td>\n",
       "      <td>NaN</td>\n",
       "    </tr>\n",
       "    <tr>\n",
       "      <th>3</th>\n",
       "      <td>3</td>\n",
       "      <td>Latvia, Republic of</td>\n",
       "      <td>Value of mobile money transactions (during the...</td>\n",
       "      <td>NaN</td>\n",
       "      <td>NaN</td>\n",
       "      <td>NaN</td>\n",
       "      <td>NaN</td>\n",
       "      <td>NaN</td>\n",
       "      <td>NaN</td>\n",
       "      <td>NaN</td>\n",
       "      <td>NaN</td>\n",
       "    </tr>\n",
       "    <tr>\n",
       "      <th>4</th>\n",
       "      <td>4</td>\n",
       "      <td>Comoros, Union of the</td>\n",
       "      <td>Value of mobile money transactions (during the...</td>\n",
       "      <td>NaN</td>\n",
       "      <td>NaN</td>\n",
       "      <td>NaN</td>\n",
       "      <td>NaN</td>\n",
       "      <td>NaN</td>\n",
       "      <td>NaN</td>\n",
       "      <td>NaN</td>\n",
       "      <td>NaN</td>\n",
       "    </tr>\n",
       "  </tbody>\n",
       "</table>\n",
       "</div>"
      ],
      "text/plain": [
       "   Unnamed: 0                COUNTRY  \\\n",
       "0           0               Zimbabwe   \n",
       "1           1               Bulgaria   \n",
       "2           2               Cameroon   \n",
       "3           3    Latvia, Republic of   \n",
       "4           4  Comoros, Union of the   \n",
       "\n",
       "                                           INDICATOR       2016       2017  \\\n",
       "0  Value of mobile money transactions (during the...  28.303524  81.761626   \n",
       "1  Value of mobile money transactions (during the...        NaN        NaN   \n",
       "2  Value of mobile money transactions (during the...   4.341683  16.448906   \n",
       "3  Value of mobile money transactions (during the...        NaN        NaN   \n",
       "4  Value of mobile money transactions (during the...        NaN        NaN   \n",
       "\n",
       "        2018       2019       2020       2021       2022      2023  \n",
       "0  63.410127  54.137070  25.053827  20.361375  14.181053  1.494562  \n",
       "1        NaN        NaN        NaN        NaN        NaN       NaN  \n",
       "2  29.137805  39.887932  53.409600        NaN        NaN       NaN  \n",
       "3        NaN        NaN        NaN        NaN        NaN       NaN  \n",
       "4        NaN        NaN        NaN        NaN        NaN       NaN  "
      ]
     },
     "execution_count": 7,
     "metadata": {},
     "output_type": "execute_result"
    }
   ],
   "source": [
    "df_mobile.head()"
   ]
  }
 ],
 "metadata": {
  "kernelspec": {
   "display_name": "pandas",
   "language": "python",
   "name": "python3"
  },
  "language_info": {
   "codemirror_mode": {
    "name": "ipython",
    "version": 3
   },
   "file_extension": ".py",
   "mimetype": "text/x-python",
   "name": "python",
   "nbconvert_exporter": "python",
   "pygments_lexer": "ipython3",
   "version": "3.12.9"
  }
 },
 "nbformat": 4,
 "nbformat_minor": 5
}
